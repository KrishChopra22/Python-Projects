{
  "nbformat": 4,
  "nbformat_minor": 0,
  "metadata": {
    "colab": {
      "name": "Translator.ipynb",
      "provenance": []
    },
    "kernelspec": {
      "name": "python3",
      "display_name": "Python 3"
    },
    "language_info": {
      "name": "python"
    }
  },
  "cells": [
    {
      "cell_type": "code",
      "source": [
        "pip install googletrans"
      ],
      "metadata": {
        "id": "p09SFSq8TtWF"
      },
      "execution_count": null,
      "outputs": []
    },
    {
      "cell_type": "code",
      "source": [
        "pip install speechRecognition"
      ],
      "metadata": {
        "id": "9lFLMRiSULOp"
      },
      "execution_count": null,
      "outputs": []
    },
    {
      "cell_type": "code",
      "source": [
        "!apt install libasound2-dev portaudio19-dev libportaudio2 libportaudiocpp0 ffmpeg\n",
        "!pip install pyaudio"
      ],
      "metadata": {
        "id": "-NjiKIqAUsis"
      },
      "execution_count": null,
      "outputs": []
    },
    {
      "cell_type": "code",
      "source": [
        "pip install gTTS"
      ],
      "metadata": {
        "id": "RcX0nRDFURyU"
      },
      "execution_count": null,
      "outputs": []
    },
    {
      "cell_type": "code",
      "source": [
        "import googletrans                  #Translation\n",
        "import speech_recognition as sr     #SpeechRecognition\n",
        "import gtts                         #TextToSpeech"
      ],
      "metadata": {
        "id": "l8_hiOX2S4GS"
      },
      "execution_count": 11,
      "outputs": []
    },
    {
      "cell_type": "code",
      "source": [
        "print(\"WELCOME TO THE BEST TRANSLATOR! \\nLook at the list of languages given below alongwith their language-code \\nSelect the language code carefully...\")\n",
        "print(\"\\n\",gtts.lang.tts_langs())\n",
        "sourcelang = input(\"\\nEnter the SOURCE language (language before translation): \")\n",
        "destin = input(\"Enter the DESTINATION language (language after translation): \")"
      ],
      "metadata": {
        "id": "3RuZwjaHS_Dv"
      },
      "execution_count": null,
      "outputs": []
    },
    {
      "cell_type": "code",
      "source": [
        "#!!! This won't work on Google Colab !!!\n",
        "\n",
        "#SPEECH-TO-TEXT PART...\n",
        "r = sr.Recognizer()\n",
        "print(sr.Microphone.list_microphone_names())\n",
        "mic = sr.Microphone(device_index=0)\n",
        "    #Recognizing Speech\n",
        "with mic as source:\n",
        "    r.adjust_for_ambient_noise(source)\n",
        "    audio = r.listen(source)\n",
        "    result = r.recognize_google(audio)\n",
        "print(result)"
      ],
      "metadata": {
        "id": "xteRRZI4TISS"
      },
      "execution_count": null,
      "outputs": []
    },
    {
      "cell_type": "code",
      "source": [
        "#TRANSLATION PART...\n",
        "from googletrans import Translator\n",
        "#print(googletrans.LANGUAGES)\n",
        "translator = Translator()\n",
        "t = translator.translate(result, src = sourcelang, dest = destin)\n",
        "print(t.text)"
      ],
      "metadata": {
        "id": "dK1lHoSLUgpb"
      },
      "execution_count": null,
      "outputs": []
    },
    {
      "cell_type": "code",
      "execution_count": null,
      "metadata": {
        "id": "eHN_uPieSuRZ"
      },
      "outputs": [],
      "source": [
        "#!!! This won't work on Google Colab !!!\n",
        "\n",
        "#TEXT-TO-SPEECH PART...\n",
        "tts = gtts.gTTS(t.text,lang=destin)\n",
        "tts.save(\"saved.mp3\")\n"
      ]
    }
  ]
}